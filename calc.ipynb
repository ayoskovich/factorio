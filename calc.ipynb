{
 "cells": [
  {
   "cell_type": "code",
   "execution_count": 9,
   "metadata": {},
   "outputs": [],
   "source": [
    "def ttp(time, speed):\n",
    "    \"\"\" Returns the time to produce 1 unit of the recipe. \n",
    "    \n",
    "    time: Crafting time\n",
    "    speed: Crafting speed\n",
    "    \"\"\"\n",
    "    print(f'{time / speed} in order to produce 1 unit')\n",
    "    return time / speed\n",
    "\n",
    "\n",
    "def pps(tp1):\n",
    "    \"\"\" Returns the amount of a unit that can be produced per second.\n",
    "    \n",
    "    tp1: Time to produce 1 unit\n",
    "    \"\"\"\n",
    "    print(f'Time to produce 1 unit: {tp1 / 1}')\n",
    "    return tp1 / 1"
   ]
  },
  {
   "cell_type": "code",
   "execution_count": 12,
   "metadata": {},
   "outputs": [
    {
     "name": "stdout",
     "output_type": "stream",
     "text": [
      "1.6 in order to produce 1 unit\n"
     ]
    }
   ],
   "source": [
    "ttp(3.2, 2);"
   ]
  },
  {
   "cell_type": "code",
   "execution_count": 10,
   "metadata": {},
   "outputs": [
    {
     "name": "stdout",
     "output_type": "stream",
     "text": [
      "1.6 in order to produce 1 unit\n",
      "Time to produce 1 unit: 1.6\n"
     ]
    }
   ],
   "source": [
    "pps(ttp(3.2, 2));"
   ]
  }
 ],
 "metadata": {
  "kernelspec": {
   "display_name": "Python 3",
   "language": "python",
   "name": "python3"
  },
  "language_info": {
   "codemirror_mode": {
    "name": "ipython",
    "version": 3
   },
   "file_extension": ".py",
   "mimetype": "text/x-python",
   "name": "python",
   "nbconvert_exporter": "python",
   "pygments_lexer": "ipython3",
   "version": "3.8.2"
  }
 },
 "nbformat": 4,
 "nbformat_minor": 4
}
