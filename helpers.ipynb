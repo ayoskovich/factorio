{
 "cells": [
  {
   "cell_type": "code",
   "execution_count": null,
   "metadata": {},
   "outputs": [],
   "source": [
    "def ips(c_time, c_speed):\n",
    "    \"\"\" Computes items per second from a recipe and \n",
    "        assembler.\n",
    "    \n",
    "    c_time (float): Crafting time of recipe\n",
    "    c_speed (float): Crafting speed of the assembler\n",
    "    \"\"\"\n",
    "    return c_speed / c_time\n",
    "\n",
    "\n",
    "def itf(ips, belt_speed):\n",
    "    \"\"\" Computes number of assemblers needed to\n",
    "        saturate the belt at belt_speed.\n",
    "    \n",
    "    ips (float): Items per second being created\n",
    "    belt_speed (float): Throughput of belt\n",
    "    \"\"\"\n",
    "    return belt_speed / ips\n",
    "\n",
    "\n",
    "# Crafting times\n",
    "T = {\n",
    "    'iron_plate':    3.2,\n",
    "    'copper_plate':  3.2,\n",
    "    'steel_plate':   16\n",
    "}\n",
    "\n",
    "# Crafting speeds\n",
    "S = {\n",
    "    'player':            1,\n",
    "    'stone_furnace':     1,\n",
    "    'steel_furnace':     2,\n",
    "    'electric_furnace':  2,\n",
    "    'ass_1':            .5,\n",
    "    'ass_2':            .75\n",
    "}\n",
    "\n",
    "# Belt speeds\n",
    "B = {\n",
    "    'yellow':  15,\n",
    "    'red':     30,\n",
    "    'blue':    45\n",
    "}"
   ]
  }
 ],
 "metadata": {
  "kernelspec": {
   "display_name": "Python 3",
   "language": "python",
   "name": "python3"
  },
  "language_info": {
   "codemirror_mode": {
    "name": "ipython",
    "version": 3
   },
   "file_extension": ".py",
   "mimetype": "text/x-python",
   "name": "python",
   "nbconvert_exporter": "python",
   "pygments_lexer": "ipython3",
   "version": "3.8.2"
  }
 },
 "nbformat": 4,
 "nbformat_minor": 4
}
